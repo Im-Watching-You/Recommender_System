{
 "cells": [
  {
   "cell_type": "markdown",
   "metadata": {},
   "source": [
    "# Date: 27.06.2020\n",
    "# MovieLens: Testing (Surprise)\n",
    "# Coder: Maksym Chernozhukov"
   ]
  },
  {
   "cell_type": "code",
   "execution_count": 1,
   "metadata": {},
   "outputs": [
    {
     "name": "stdout",
     "output_type": "stream",
     "text": [
      "Evaluating RMSE, MAE of algorithm SVD on 5 split(s).\n",
      "\n",
      "                  Fold 1  Fold 2  Fold 3  Fold 4  Fold 5  Mean    Std     \n",
      "RMSE (testset)    0.9305  0.9339  0.9340  0.9438  0.9345  0.9353  0.0045  \n",
      "MAE (testset)     0.7358  0.7385  0.7363  0.7414  0.7352  0.7374  0.0023  \n",
      "Fit time          7.96    6.72    5.53    8.55    7.28    7.21    1.04    \n",
      "Test time         0.30    0.21    0.28    0.18    0.29    0.25    0.05    \n"
     ]
    },
    {
     "data": {
      "text/plain": [
       "{'test_rmse': array([0.93050395, 0.93390317, 0.93400579, 0.94383641, 0.93445526]),\n",
       " 'test_mae': array([0.73583745, 0.73846379, 0.73628838, 0.74144036, 0.7351755 ]),\n",
       " 'fit_time': (7.962108135223389,\n",
       "  6.717039108276367,\n",
       "  5.532292127609253,\n",
       "  8.545579671859741,\n",
       "  7.278312921524048),\n",
       " 'test_time': (0.2962071895599365,\n",
       "  0.2050468921661377,\n",
       "  0.27628040313720703,\n",
       "  0.18151116371154785,\n",
       "  0.286238431930542)}"
      ]
     },
     "execution_count": 1,
     "metadata": {},
     "output_type": "execute_result"
    }
   ],
   "source": [
    "from surprise import SVD\n",
    "from surprise import Dataset\n",
    "from surprise.model_selection import cross_validate\n",
    "\n",
    "\n",
    "# Load the movielens-100k dataset (download it if needed),\n",
    "data = Dataset.load_builtin('ml-100k')\n",
    "\n",
    "# We'll use the famous SVD algorithm.\n",
    "algo = SVD()\n",
    "\n",
    "# Run 5-fold cross-validation and print results\n",
    "cross_validate(algo, data, measures=['RMSE', 'MAE'], cv=5, verbose=True)"
   ]
  },
  {
   "cell_type": "code",
   "execution_count": 2,
   "metadata": {},
   "outputs": [
    {
     "name": "stdout",
     "output_type": "stream",
     "text": [
      "RMSE: 0.9383\n"
     ]
    },
    {
     "data": {
      "text/plain": [
       "0.9382576983155428"
      ]
     },
     "execution_count": 2,
     "metadata": {},
     "output_type": "execute_result"
    }
   ],
   "source": [
    "from surprise import SVD\n",
    "from surprise import Dataset\n",
    "from surprise import accuracy\n",
    "from surprise.model_selection import train_test_split\n",
    "\n",
    "# Load the movielens-100k dataset (download it if needed),\n",
    "data = Dataset.load_builtin('ml-100k')\n",
    "\n",
    "# Sample random trainset and testset\n",
    "trainset, testset = train_test_split(data, test_size=.25)\n",
    "\n",
    "# We'll use the famous SVD algorithm.\n",
    "algo = SVD()\n",
    "\n",
    "# Train the algorithm on the trainset, and predict ratings for the testset\n",
    "algo.fit(trainset)\n",
    "predictions = algo.test(testset)\n",
    "\n",
    "# Then compute RMSE\n",
    "accuracy.rmse(predictions)"
   ]
  },
  {
   "cell_type": "code",
   "execution_count": 3,
   "metadata": {},
   "outputs": [
    {
     "name": "stdout",
     "output_type": "stream",
     "text": [
      "user: 196        item: 302        r_ui = 4.00   est = 3.84   {'was_impossible': False}\n",
      "user: 0          item: 0          r_ui = 0.00   est = 3.53   {'was_impossible': False}\n",
      "user: 1          item: 1          r_ui = 0.00   est = 4.32   {'was_impossible': False}\n",
      "user: 2          item: 2          r_ui = 0.00   est = 3.28   {'was_impossible': False}\n",
      "user: 3          item: 3          r_ui = 0.00   est = 2.82   {'was_impossible': False}\n",
      "user: 4          item: 4          r_ui = 0.00   est = 4.20   {'was_impossible': False}\n",
      "user: 5          item: 5          r_ui = 0.00   est = 2.62   {'was_impossible': False}\n",
      "user: 6          item: 6          r_ui = 0.00   est = 3.77   {'was_impossible': False}\n",
      "user: 7          item: 7          r_ui = 0.00   est = 4.42   {'was_impossible': False}\n",
      "user: 8          item: 8          r_ui = 0.00   est = 4.36   {'was_impossible': False}\n",
      "user: 9          item: 9          r_ui = 0.00   est = 4.55   {'was_impossible': False}\n"
     ]
    }
   ],
   "source": [
    "from surprise import SVD\n",
    "from surprise import Dataset\n",
    "\n",
    "# Load the movielens-100k dataset\n",
    "data = Dataset.load_builtin('ml-100k')\n",
    "\n",
    "# Retrieve the trainset.\n",
    "trainset = data.build_full_trainset()\n",
    "\n",
    "# Build an algorithm, and train it.\n",
    "algo = SVD()\n",
    "algo.fit(trainset)\n",
    "\n",
    "uid = str(196)  # raw user id (as in the ratings file). They are **strings**!\n",
    "iid = str(302)  # raw item id (as in the ratings file). They are **strings**!\n",
    "\n",
    "# get a prediction for specific users and items.\n",
    "pred = algo.predict(uid, iid, r_ui=4, verbose=True)\n",
    "\n",
    "for i in range(10):\n",
    "    uid = str(i)\n",
    "    iid = str(i)\n",
    "    pred = algo.predict(iid, iid, r_ui=0, verbose=True)"
   ]
  },
  {
   "cell_type": "code",
   "execution_count": 28,
   "metadata": {},
   "outputs": [
    {
     "name": "stdout",
     "output_type": "stream",
     "text": [
      "Estimating biases using als...\n",
      "Computing the msd similarity matrix...\n",
      "Done computing similarity matrix.\n",
      "RMSE: 0.8915\n",
      "RMSE: 0.8589\n",
      "user: 196        item: 302        r_ui = 4.00   est = 3.77   {'actual_k': 60, 'was_impossible': False}\n",
      "user: 196        item: 302        r_ui = 4.00   est = 3.83   {'was_impossible': False}\n"
     ]
    }
   ],
   "source": [
    "from surprise import SVD\n",
    "from surprise import Dataset\n",
    "from surprise import KNNBaseline\n",
    "\n",
    "# Load the movielens-100k dataset\n",
    "data = Dataset.load_builtin('ml-1m')\n",
    "\n",
    "# Retrieve the trainset.\n",
    "trainset, testset = train_test_split(data, test_size=.1)\n",
    "\n",
    "# Build an algorithm, and train it.\n",
    "knn = KNNBaseline(k=60)\n",
    "svd = SVD(n_factors=10, n_epochs=30)\n",
    "\n",
    "# Fit data\n",
    "knn.fit(trainset)\n",
    "svd.fit(trainset)\n",
    "\n",
    "# Test\n",
    "knn_predictions = knn.test(testset)\n",
    "svd_predictions = svd.test(testset)\n",
    "\n",
    "# Then compute RMSE\n",
    "accuracy.rmse(knn_predictions)\n",
    "accuracy.rmse(svd_predictions)\n",
    "\n",
    "uid = str(196)\n",
    "iid = str(302)\n",
    "\n",
    "# get a prediction for specific users and items.\n",
    "knn_pred = knn.predict(uid, iid, r_ui=4, verbose=True)\n",
    "svd_pred = svd.predict(uid, iid, r_ui=4, verbose=True)\n",
    "\n",
    "print(knn_pred[3])\n",
    "print(svd_pred[3])\n",
    "print(round(knn_pred[3], 3))"
   ]
  },
  {
   "cell_type": "code",
   "execution_count": null,
   "metadata": {},
   "outputs": [],
   "source": []
  }
 ],
 "metadata": {
  "kernelspec": {
   "display_name": "Python 3",
   "language": "python",
   "name": "python3"
  },
  "language_info": {
   "codemirror_mode": {
    "name": "ipython",
    "version": 3
   },
   "file_extension": ".py",
   "mimetype": "text/x-python",
   "name": "python",
   "nbconvert_exporter": "python",
   "pygments_lexer": "ipython3",
   "version": "3.7.7"
  }
 },
 "nbformat": 4,
 "nbformat_minor": 4
}
