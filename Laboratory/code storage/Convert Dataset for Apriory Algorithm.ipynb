{
 "cells": [
  {
   "cell_type": "markdown",
   "metadata": {},
   "source": [
    "# Users and Items Transactions"
   ]
  },
  {
   "cell_type": "code",
   "execution_count": 1,
   "metadata": {},
   "outputs": [],
   "source": [
    "import numpy as np\n",
    "import pandas as pd\n",
    "from time import time\n",
    "from numpy import save, load"
   ]
  },
  {
   "cell_type": "code",
   "execution_count": 2,
   "metadata": {},
   "outputs": [],
   "source": [
    "tic = time()\n",
    "TRIGGER = 'M'\n",
    "\n",
    "if TRIGGER == 'K':\n",
    "    file_name = '../datasets/file_users_100K.txt'\n",
    "#     file_name = '../datasets/file_items_100K.txt'\n",
    "\n",
    "    data = load('../datasets/main/train_set_100K.npy')\n",
    "#     data = np.loadtxt('../datasets/main/ml-100k.data', skiprows=0, delimiter='\\t').astype('int32')\n",
    "\n",
    "elif TRIGGER == 'M':\n",
    "    file_name = '../datasets/file_users_1M.txt'\n",
    "#     file_name = '../datasets/file_items_1M.txt'\n",
    "\n",
    "    data = load('../datasets/main/train_set_1M.npy')\n",
    "#     data = np.loadtxt('../datasets/main/ml-1M.dat', skiprows=0, delimiter='::').astype('int32')"
   ]
  },
  {
   "cell_type": "code",
   "execution_count": 3,
   "metadata": {},
   "outputs": [
    {
     "data": {
      "text/plain": [
       "array([[        1,         1,         5, 978824268],\n",
       "       [        1,        48,         5, 978824351],\n",
       "       [        1,       150,         5, 978301777],\n",
       "       ...,\n",
       "       [     6040,      3703,         4, 964828575],\n",
       "       [     6040,      3751,         4, 964828782],\n",
       "       [     6040,      3819,         5, 963272166]])"
      ]
     },
     "execution_count": 3,
     "metadata": {},
     "output_type": "execute_result"
    }
   ],
   "source": [
    "data"
   ]
  },
  {
   "cell_type": "code",
   "execution_count": 4,
   "metadata": {
    "scrolled": true
   },
   "outputs": [
    {
     "data": {
      "text/html": [
       "<div>\n",
       "<style scoped>\n",
       "    .dataframe tbody tr th:only-of-type {\n",
       "        vertical-align: middle;\n",
       "    }\n",
       "\n",
       "    .dataframe tbody tr th {\n",
       "        vertical-align: top;\n",
       "    }\n",
       "\n",
       "    .dataframe thead th {\n",
       "        text-align: right;\n",
       "    }\n",
       "</style>\n",
       "<table border=\"1\" class=\"dataframe\">\n",
       "  <thead>\n",
       "    <tr style=\"text-align: right;\">\n",
       "      <th></th>\n",
       "      <th>user</th>\n",
       "      <th>item</th>\n",
       "      <th>rating</th>\n",
       "      <th>timestamp</th>\n",
       "    </tr>\n",
       "  </thead>\n",
       "  <tbody>\n",
       "    <tr>\n",
       "      <th>0</th>\n",
       "      <td>1</td>\n",
       "      <td>1</td>\n",
       "      <td>5</td>\n",
       "      <td>978824268</td>\n",
       "    </tr>\n",
       "    <tr>\n",
       "      <th>1</th>\n",
       "      <td>1</td>\n",
       "      <td>48</td>\n",
       "      <td>5</td>\n",
       "      <td>978824351</td>\n",
       "    </tr>\n",
       "    <tr>\n",
       "      <th>2</th>\n",
       "      <td>1</td>\n",
       "      <td>150</td>\n",
       "      <td>5</td>\n",
       "      <td>978301777</td>\n",
       "    </tr>\n",
       "    <tr>\n",
       "      <th>3</th>\n",
       "      <td>1</td>\n",
       "      <td>260</td>\n",
       "      <td>4</td>\n",
       "      <td>978300760</td>\n",
       "    </tr>\n",
       "    <tr>\n",
       "      <th>4</th>\n",
       "      <td>1</td>\n",
       "      <td>527</td>\n",
       "      <td>5</td>\n",
       "      <td>978824195</td>\n",
       "    </tr>\n",
       "    <tr>\n",
       "      <th>...</th>\n",
       "      <td>...</td>\n",
       "      <td>...</td>\n",
       "      <td>...</td>\n",
       "      <td>...</td>\n",
       "    </tr>\n",
       "    <tr>\n",
       "      <th>900184</th>\n",
       "      <td>6040</td>\n",
       "      <td>3671</td>\n",
       "      <td>4</td>\n",
       "      <td>997454367</td>\n",
       "    </tr>\n",
       "    <tr>\n",
       "      <th>900185</th>\n",
       "      <td>6040</td>\n",
       "      <td>3683</td>\n",
       "      <td>4</td>\n",
       "      <td>960971696</td>\n",
       "    </tr>\n",
       "    <tr>\n",
       "      <th>900186</th>\n",
       "      <td>6040</td>\n",
       "      <td>3703</td>\n",
       "      <td>4</td>\n",
       "      <td>964828575</td>\n",
       "    </tr>\n",
       "    <tr>\n",
       "      <th>900187</th>\n",
       "      <td>6040</td>\n",
       "      <td>3751</td>\n",
       "      <td>4</td>\n",
       "      <td>964828782</td>\n",
       "    </tr>\n",
       "    <tr>\n",
       "      <th>900188</th>\n",
       "      <td>6040</td>\n",
       "      <td>3819</td>\n",
       "      <td>5</td>\n",
       "      <td>963272166</td>\n",
       "    </tr>\n",
       "  </tbody>\n",
       "</table>\n",
       "<p>900189 rows × 4 columns</p>\n",
       "</div>"
      ],
      "text/plain": [
       "        user  item  rating  timestamp\n",
       "0          1     1       5  978824268\n",
       "1          1    48       5  978824351\n",
       "2          1   150       5  978301777\n",
       "3          1   260       4  978300760\n",
       "4          1   527       5  978824195\n",
       "...      ...   ...     ...        ...\n",
       "900184  6040  3671       4  997454367\n",
       "900185  6040  3683       4  960971696\n",
       "900186  6040  3703       4  964828575\n",
       "900187  6040  3751       4  964828782\n",
       "900188  6040  3819       5  963272166\n",
       "\n",
       "[900189 rows x 4 columns]"
      ]
     },
     "execution_count": 4,
     "metadata": {},
     "output_type": "execute_result"
    }
   ],
   "source": [
    "data_csv = pd.DataFrame(data, columns = ['user', 'item', 'rating', 'timestamp'])\n",
    "data_csv.sort_values(['user', 'item'], ascending=[True, True], inplace=True)\n",
    "data_csv.reset_index(inplace=True)\n",
    "data_csv.drop('index', axis=1, inplace=True)\n",
    "data_csv"
   ]
  },
  {
   "cell_type": "code",
   "execution_count": 5,
   "metadata": {
    "scrolled": true
   },
   "outputs": [],
   "source": [
    "users = np.unique(data[:, 0]).tolist() # list of unique users\n",
    "items = np.unique(data[:, 1]).tolist() # list of unique items"
   ]
  },
  {
   "cell_type": "code",
   "execution_count": 6,
   "metadata": {},
   "outputs": [
    {
     "name": "stdout",
     "output_type": "stream",
     "text": [
      "USERS: 6040\t ITEMS: 3694\t RATINGS: 900189\n"
     ]
    }
   ],
   "source": [
    "n_u = len(users)     # number of users\n",
    "n_m = len(items)     # number of movies\n",
    "n_r = data.shape[0]  # number of ratings\n",
    "\n",
    "print(\"USERS: {}\\t ITEMS: {}\\t RATINGS: {}\".format(n_u, n_m, n_r))"
   ]
  },
  {
   "cell_type": "code",
   "execution_count": 7,
   "metadata": {},
   "outputs": [],
   "source": [
    "# Make dict for users and movies, where udict[u_id] = index(0..942), and mdict[m_id] = index(0..1681)\n",
    "udict = {}\n",
    "for i, u_id in enumerate(users):\n",
    "    udict[u_id] = i\n",
    "    \n",
    "mdict = {}\n",
    "for i, m_id in enumerate(items):\n",
    "    mdict[m_id] = i"
   ]
  },
  {
   "cell_type": "code",
   "execution_count": 8,
   "metadata": {},
   "outputs": [],
   "source": [
    "# Empty matrix\n",
    "matrix = np.zeros((n_u, n_m), dtype='int32')"
   ]
  },
  {
   "cell_type": "code",
   "execution_count": 9,
   "metadata": {},
   "outputs": [],
   "source": [
    "for i in range(n_r):\n",
    "    u_id = data[i, 0]\n",
    "    m_id = data[i, 1]\n",
    "    r = data[i, 2]\n",
    "    \n",
    "    matrix[udict[u_id], mdict[m_id]] = int(r)"
   ]
  },
  {
   "cell_type": "code",
   "execution_count": 10,
   "metadata": {},
   "outputs": [
    {
     "data": {
      "text/plain": [
       "array([[5, 0, 0, ..., 0, 0, 0],\n",
       "       [0, 0, 0, ..., 0, 0, 0],\n",
       "       [0, 0, 0, ..., 0, 0, 0],\n",
       "       ...,\n",
       "       [0, 0, 0, ..., 0, 0, 0],\n",
       "       [0, 0, 0, ..., 0, 0, 0],\n",
       "       [3, 0, 0, ..., 0, 0, 0]])"
      ]
     },
     "execution_count": 10,
     "metadata": {},
     "output_type": "execute_result"
    }
   ],
   "source": [
    "matrix"
   ]
  },
  {
   "cell_type": "markdown",
   "metadata": {},
   "source": [
    "## Save Dataset for Apriory"
   ]
  },
  {
   "cell_type": "markdown",
   "metadata": {},
   "source": [
    "#### Users Transactions"
   ]
  },
  {
   "cell_type": "code",
   "execution_count": 11,
   "metadata": {},
   "outputs": [],
   "source": [
    "records = []\n",
    "\n",
    "for u_id in users:\n",
    "    temp = []\n",
    "    \n",
    "    for i_id in items:\n",
    "        r = matrix[udict[u_id], mdict[i_id]]\n",
    "        if r != 0:\n",
    "            temp.append('Item_{0}: {1}'.format(i_id, r))\n",
    "            \n",
    "    records.append(temp)"
   ]
  },
  {
   "cell_type": "markdown",
   "metadata": {},
   "source": [
    "#### Items Transactions"
   ]
  },
  {
   "cell_type": "code",
   "execution_count": 12,
   "metadata": {},
   "outputs": [],
   "source": [
    "# records = []\n",
    "\n",
    "# for i_id in items:\n",
    "#     temp = []\n",
    "    \n",
    "#     for u_id in users:\n",
    "#         r = matrix[udict[u_id], mdict[i_id]]\n",
    "#         if r != 0:\n",
    "#             temp.append('User_{0}: {1}'.format(u_id, r))\n",
    "            \n",
    "#     records.append(temp)"
   ]
  },
  {
   "cell_type": "code",
   "execution_count": 13,
   "metadata": {},
   "outputs": [],
   "source": [
    "with open(file_name, \"w\") as file:\n",
    "    for line in records:\n",
    "        if line != records[0]:\n",
    "            file.write('\\n')\n",
    "        \n",
    "        for item in line:\n",
    "            if item != line[-1]:\n",
    "                file.write(item + ', ')\n",
    "            else:\n",
    "                file.write(item)\n",
    "    file.close()"
   ]
  },
  {
   "cell_type": "code",
   "execution_count": 14,
   "metadata": {},
   "outputs": [
    {
     "name": "stdout",
     "output_type": "stream",
     "text": [
      "Preprocessing time: 20 seconds!\n"
     ]
    }
   ],
   "source": [
    "print('Preprocessing time: {} seconds!'.format(int(time() - tic)))"
   ]
  }
 ],
 "metadata": {
  "kernelspec": {
   "display_name": "Python 3",
   "language": "python",
   "name": "python3"
  },
  "language_info": {
   "codemirror_mode": {
    "name": "ipython",
    "version": 3
   },
   "file_extension": ".py",
   "mimetype": "text/x-python",
   "name": "python",
   "nbconvert_exporter": "python",
   "pygments_lexer": "ipython3",
   "version": "3.7.7"
  }
 },
 "nbformat": 4,
 "nbformat_minor": 4
}
