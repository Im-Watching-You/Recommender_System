{
 "cells": [
  {
   "cell_type": "markdown",
   "metadata": {},
   "source": [
    "# Average Results"
   ]
  },
  {
   "cell_type": "code",
   "execution_count": 1,
   "metadata": {},
   "outputs": [],
   "source": [
    "import numpy as np\n",
    "import pandas as pd\n",
    "from statistics import mean"
   ]
  },
  {
   "cell_type": "code",
   "execution_count": 2,
   "metadata": {
    "scrolled": true
   },
   "outputs": [],
   "source": [
    "data = np.loadtxt('compute_4.txt', skiprows=0, delimiter='\\t')"
   ]
  },
  {
   "cell_type": "code",
   "execution_count": 3,
   "metadata": {},
   "outputs": [],
   "source": [
    "data_csv = pd.DataFrame(data, columns = ['RMSE', 'MAE'])"
   ]
  },
  {
   "cell_type": "code",
   "execution_count": 4,
   "metadata": {},
   "outputs": [
    {
     "data": {
      "text/html": [
       "<div>\n",
       "<style scoped>\n",
       "    .dataframe tbody tr th:only-of-type {\n",
       "        vertical-align: middle;\n",
       "    }\n",
       "\n",
       "    .dataframe tbody tr th {\n",
       "        vertical-align: top;\n",
       "    }\n",
       "\n",
       "    .dataframe thead th {\n",
       "        text-align: right;\n",
       "    }\n",
       "</style>\n",
       "<table border=\"1\" class=\"dataframe\">\n",
       "  <thead>\n",
       "    <tr style=\"text-align: right;\">\n",
       "      <th></th>\n",
       "      <th>RMSE</th>\n",
       "      <th>MAE</th>\n",
       "    </tr>\n",
       "  </thead>\n",
       "  <tbody>\n",
       "    <tr>\n",
       "      <th>0</th>\n",
       "      <td>0.823758</td>\n",
       "      <td>0.642356</td>\n",
       "    </tr>\n",
       "    <tr>\n",
       "      <th>1</th>\n",
       "      <td>0.823457</td>\n",
       "      <td>0.642297</td>\n",
       "    </tr>\n",
       "    <tr>\n",
       "      <th>2</th>\n",
       "      <td>0.823523</td>\n",
       "      <td>0.642220</td>\n",
       "    </tr>\n",
       "    <tr>\n",
       "      <th>3</th>\n",
       "      <td>0.823184</td>\n",
       "      <td>0.642248</td>\n",
       "    </tr>\n",
       "    <tr>\n",
       "      <th>4</th>\n",
       "      <td>0.823307</td>\n",
       "      <td>0.642207</td>\n",
       "    </tr>\n",
       "    <tr>\n",
       "      <th>5</th>\n",
       "      <td>0.823439</td>\n",
       "      <td>0.642394</td>\n",
       "    </tr>\n",
       "    <tr>\n",
       "      <th>6</th>\n",
       "      <td>0.823426</td>\n",
       "      <td>0.642197</td>\n",
       "    </tr>\n",
       "    <tr>\n",
       "      <th>7</th>\n",
       "      <td>0.823498</td>\n",
       "      <td>0.642467</td>\n",
       "    </tr>\n",
       "    <tr>\n",
       "      <th>8</th>\n",
       "      <td>0.823423</td>\n",
       "      <td>0.642252</td>\n",
       "    </tr>\n",
       "    <tr>\n",
       "      <th>9</th>\n",
       "      <td>0.823595</td>\n",
       "      <td>0.642764</td>\n",
       "    </tr>\n",
       "  </tbody>\n",
       "</table>\n",
       "</div>"
      ],
      "text/plain": [
       "       RMSE       MAE\n",
       "0  0.823758  0.642356\n",
       "1  0.823457  0.642297\n",
       "2  0.823523  0.642220\n",
       "3  0.823184  0.642248\n",
       "4  0.823307  0.642207\n",
       "5  0.823439  0.642394\n",
       "6  0.823426  0.642197\n",
       "7  0.823498  0.642467\n",
       "8  0.823423  0.642252\n",
       "9  0.823595  0.642764"
      ]
     },
     "execution_count": 4,
     "metadata": {},
     "output_type": "execute_result"
    }
   ],
   "source": [
    "data_csv"
   ]
  },
  {
   "cell_type": "code",
   "execution_count": 5,
   "metadata": {},
   "outputs": [],
   "source": [
    "Average_MAE  = data_csv['MAE'].mean(axis = 0)\n",
    "Average_RMSE = data_csv['RMSE'].mean(axis = 0)"
   ]
  },
  {
   "cell_type": "code",
   "execution_count": 6,
   "metadata": {},
   "outputs": [],
   "source": [
    "RMSE_list = data_csv['RMSE'].tolist()"
   ]
  },
  {
   "cell_type": "code",
   "execution_count": 7,
   "metadata": {},
   "outputs": [],
   "source": [
    "# Compute the closest RMSE, and Standard Deviation\n",
    "min_diff = 1\n",
    "std_dev = []\n",
    "\n",
    "for RMSE in RMSE_list:\n",
    "    diff = abs(Average_RMSE - RMSE)\n",
    "    std_dev.append(diff)\n",
    "    \n",
    "    if diff < min_diff:\n",
    "        min_diff = diff\n",
    "        result = RMSE               # The closest RMSE\n",
    "        \n",
    "std = round(mean(std_dev), 6)       # Standard Deviation"
   ]
  },
  {
   "cell_type": "code",
   "execution_count": 8,
   "metadata": {},
   "outputs": [
    {
     "name": "stdout",
     "output_type": "stream",
     "text": [
      "RMSE\n",
      "0.8235\n",
      "0.8234611511230469\n",
      "\n",
      "MAE\n",
      "0.6423\n",
      "0.642340338230133\n"
     ]
    }
   ],
   "source": [
    "print('RMSE\\n{0:0.4f}\\n{0}\\n\\nMAE\\n{1:0.4f}\\n{1}'.format(Average_RMSE, Average_MAE))"
   ]
  },
  {
   "cell_type": "code",
   "execution_count": 9,
   "metadata": {
    "scrolled": true
   },
   "outputs": [
    {
     "name": "stdout",
     "output_type": "stream",
     "text": [
      "The closest RMSE: 0.823457\tStandard deviation: 0.000106\n"
     ]
    }
   ],
   "source": [
    "print('The closest RMSE: {0:0.6f}\\tStandard deviation: {1}'.format(result, std))"
   ]
  },
  {
   "cell_type": "markdown",
   "metadata": {},
   "source": [
    "### Results\n",
    "#### Baseline"
   ]
  },
  {
   "cell_type": "code",
   "execution_count": 10,
   "metadata": {},
   "outputs": [],
   "source": [
    "# RMSE\n",
    "# 0.8251\n",
    "# 0.8251074969768524\n",
    "\n",
    "# MAE\n",
    "# 0.6430\n",
    "# 0.6429625034332276\n",
    "\n",
    "# The closest RMSE: 0.825148\tStandard deviation: 0.00126"
   ]
  },
  {
   "cell_type": "markdown",
   "metadata": {},
   "source": [
    "#### Filter 1"
   ]
  },
  {
   "cell_type": "code",
   "execution_count": 11,
   "metadata": {},
   "outputs": [],
   "source": [
    "# RMSE\n",
    "# 0.8235\n",
    "# 0.823473858833313\n",
    "\n",
    "# MAE\n",
    "# 0.6425\n",
    "# 0.6424937665462493\n",
    "\n",
    "# The closest RMSE: 0.823508\tStandard deviation: 0.000168"
   ]
  },
  {
   "cell_type": "markdown",
   "metadata": {},
   "source": [
    "#### Filter 2"
   ]
  },
  {
   "cell_type": "code",
   "execution_count": 12,
   "metadata": {},
   "outputs": [],
   "source": [
    "# RMSE\n",
    "# 0.8241\n",
    "# 0.8240662650628523\n",
    "\n",
    "# MAE\n",
    "# 0.6430\n",
    "# 0.6429907625371759\n",
    "\n",
    "# The closest RMSE: 0.824020\tStandard deviation: 0.000173"
   ]
  },
  {
   "cell_type": "markdown",
   "metadata": {},
   "source": [
    "#### Filter 3"
   ]
  },
  {
   "cell_type": "code",
   "execution_count": 13,
   "metadata": {},
   "outputs": [],
   "source": [
    "# RMSE\n",
    "# 0.8243\n",
    "# 0.8242832720279694\n",
    "\n",
    "# MAE\n",
    "# 0.6427\n",
    "# 0.6427329927682877\n",
    "\n",
    "# The closest RMSE: 0.824295\tStandard deviation: 0.000132"
   ]
  },
  {
   "cell_type": "markdown",
   "metadata": {},
   "source": [
    "#### Filter 4"
   ]
  },
  {
   "cell_type": "code",
   "execution_count": 14,
   "metadata": {},
   "outputs": [],
   "source": [
    "# Train 1.0 x2\n",
    "# RMSE\n",
    "# 0.8254\n",
    "# 0.8253923058509827\n",
    "\n",
    "# MAE\n",
    "# 0.6435\n",
    "# 0.6435220539569855"
   ]
  },
  {
   "cell_type": "code",
   "execution_count": 15,
   "metadata": {},
   "outputs": [],
   "source": [
    "# Train 1.5 x3\n",
    "# RMSE\n",
    "# 0.8245\n",
    "# 0.8245423436164856\n",
    "\n",
    "# MAE\n",
    "# 0.6431\n",
    "# 0.643084704875946"
   ]
  },
  {
   "cell_type": "code",
   "execution_count": 16,
   "metadata": {},
   "outputs": [],
   "source": [
    "# Train 1.6 x10\n",
    "# RMSE\n",
    "# 0.8235\n",
    "# 0.8234611511230469\n",
    "\n",
    "# MAE\n",
    "# 0.6423\n",
    "# 0.642340338230133\n",
    "\n",
    "# The closest RMSE: 0.823457\tStandard deviation: 0.000106"
   ]
  },
  {
   "cell_type": "code",
   "execution_count": 17,
   "metadata": {},
   "outputs": [],
   "source": [
    "# Train 1.7 x13\n",
    "# RMSE\n",
    "# 0.8234\n",
    "# 0.8233594252513006\n",
    "\n",
    "# MAE\n",
    "# 0.6424\n",
    "# 0.6423509671137884\n",
    "\n",
    "# The closest RMSE: 0.823320\tStandard deviation: 0.000243"
   ]
  }
 ],
 "metadata": {
  "kernelspec": {
   "display_name": "Python 3",
   "language": "python",
   "name": "python3"
  },
  "language_info": {
   "codemirror_mode": {
    "name": "ipython",
    "version": 3
   },
   "file_extension": ".py",
   "mimetype": "text/x-python",
   "name": "python",
   "nbconvert_exporter": "python",
   "pygments_lexer": "ipython3",
   "version": "3.7.7"
  }
 },
 "nbformat": 4,
 "nbformat_minor": 4
}
