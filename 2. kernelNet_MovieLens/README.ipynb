{
 "cells": [
  {
   "cell_type": "markdown",
   "metadata": {},
   "source": [
    "# kernelNet MovieLens-1M\n",
    "\n",
    "State of the art model for MovieLens-1M.\n",
    "\n",
    "This is a minimal implementation of a kernelNet sparsified autoencoder for MovieLens-1M. \n",
    "See http://proceedings.mlr.press/v80/muller18a.html\n",
    "\n",
    "## Setup\n",
    "Download this repository\n",
    "\n",
    "### Requirements\n",
    "* numpy\n",
    "* scipy\n",
    "* tensorflow (tested with version 1.13)\n",
    "\n",
    "### Dataset\n",
    "Expects MovieLens-1M dataset in a subdirectory named ml-1m.\n",
    "Get it here https://grouplens.org/datasets/movielens/1m/\n",
    "\n",
    "or on linux run in the project directory\n",
    "\n",
    "```wget --output-document=ml-1m.zip http://www.grouplens.org/system/files/ml-1m.zip; unzip ml-1m.zip```\n",
    "\n",
    "## Run\n",
    "```python kernelNet_ml1m.py```\n",
    "optional arguments are the L2 and sparsity regularization strength. Default is 60. and 0.013\n",
    "\n",
    "### Results\n",
    "with the default parameters this slightly outperforms the paper model at 0.823 validation RMSE (10-times repeated random sub-sampling validation)\n"
   ]
  },
  {
   "cell_type": "code",
   "execution_count": null,
   "metadata": {},
   "outputs": [],
   "source": []
  }
 ],
 "metadata": {
  "kernelspec": {
   "display_name": "Python 3",
   "language": "python",
   "name": "python3"
  },
  "language_info": {
   "codemirror_mode": {
    "name": "ipython",
    "version": 3
   },
   "file_extension": ".py",
   "mimetype": "text/x-python",
   "name": "python",
   "nbconvert_exporter": "python",
   "pygments_lexer": "ipython3",
   "version": "3.7.7"
  }
 },
 "nbformat": 4,
 "nbformat_minor": 4
}
